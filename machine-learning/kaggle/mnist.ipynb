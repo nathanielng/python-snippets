{
 "cells": [
  {
   "cell_type": "markdown",
   "metadata": {},
   "source": [
    "# MNIST Digit Recognition\n",
    "\n",
    "## 1. Introduction\n",
    "\n",
    "### 1.1 Links\n",
    "\n",
    "- [Keras MNIST dataset](https://keras.io/api/datasets/mnist/#load_data-function)\n",
    "- [Background Information](http://yann.lecun.com/exdb/mnist/)"
   ]
  },
  {
   "cell_type": "code",
   "execution_count": 1,
   "metadata": {},
   "outputs": [
    {
     "output_type": "stream",
     "name": "stderr",
     "text": "Using TensorFlow backend.\n"
    }
   ],
   "source": [
    "import sklearn.datasets\n",
    "\n",
    "from keras.datasets import mnist"
   ]
  },
  {
   "cell_type": "markdown",
   "metadata": {},
   "source": [
    "## 2. Load Data\n",
    "\n",
    "### 2.1 Sklearn version"
   ]
  },
  {
   "cell_type": "code",
   "execution_count": 2,
   "metadata": {},
   "outputs": [
    {
     "output_type": "stream",
     "name": "stdout",
     "text": "Datatype & shape:\n- X: <class 'numpy.ndarray'> (1797, 64)\n- y: <class 'numpy.ndarray'> (1797,)\n"
    }
   ],
   "source": [
    "digits = sklearn.datasets.load_digits()\n",
    "X = digits.data\n",
    "y = digits.target\n",
    "print('Datatype & shape:')\n",
    "print(f'- X: {type(X)} {X.shape}')\n",
    "print(f'- y: {type(y)} {y.shape}')"
   ]
  },
  {
   "cell_type": "markdown",
   "metadata": {},
   "source": [
    "### 2.2 Keras version"
   ]
  },
  {
   "cell_type": "code",
   "execution_count": 3,
   "metadata": {},
   "outputs": [],
   "source": [
    "(X_train, y_train), (X_test, y_test) = mnist.load_data(path='mnist.npz')"
   ]
  },
  {
   "cell_type": "code",
   "execution_count": 4,
   "metadata": {},
   "outputs": [
    {
     "output_type": "stream",
     "name": "stdout",
     "text": "- X: <class 'numpy.ndarray'>:\n     (60000, 28, 28) (training), (10000, 28, 28) (testion)\n- y: <class 'numpy.ndarray'>:\n     (60000,) (training), (10000,) (testing)\n"
    }
   ],
   "source": [
    "print(f'- X: {type(X_train)}:')\n",
    "print(f'     {X_train.shape} (training), {X_test.shape} (testion)')\n",
    "print(f'- y: {type(y_train)}:')\n",
    "print(f'     {y_train.shape} (training), {y_test.shape} (testing)')"
   ]
  }
 ],
 "metadata": {
  "language_info": {
   "codemirror_mode": {
    "name": "ipython",
    "version": 3
   },
   "file_extension": ".py",
   "mimetype": "text/x-python",
   "name": "python",
   "nbconvert_exporter": "python",
   "pygments_lexer": "ipython3",
   "version": "3.7.3-final"
  },
  "orig_nbformat": 2,
  "kernelspec": {
   "name": "python37364bitbaseconda2dafc13eb460417693f3f4cda8ce7fa1",
   "display_name": "Python 3.7.3 64-bit ('base': conda)"
  }
 },
 "nbformat": 4,
 "nbformat_minor": 2
}