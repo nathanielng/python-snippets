{
 "cells": [
  {
   "cell_type": "code",
   "execution_count": 1,
   "metadata": {},
   "outputs": [],
   "source": [
    "import numpy as np\n",
    "import pandas as pd\n",
    "\n",
    "from sklearn.base import BaseEstimator, TransformerMixin\n",
    "from sklearn.preprocessing import StandardScaler\n",
    "\n",
    "\n",
    "class MyTransformer(BaseEstimator, TransformerMixin):\n",
    "\n",
    "    def __init__(self): \n",
    "        self._mean_X = None\n",
    "        self._std_X = None\n",
    "\n",
    "    def fit(self, X: np.array, y = None):\n",
    "        if isinstance(X, pd.DataFrame):\n",
    "            self._mean_X = X.values.mean(axis=0)\n",
    "            self._std_X = X.values.std(axis=0)\n",
    "        else:\n",
    "            self._mean_X = X.mean(axis=0)\n",
    "            self._std_X = X.std(axis=0)\n",
    "        return self\n",
    "\n",
    "    def transform(self, X: np.array, y = None):\n",
    "        return (X.copy() - self._mean_X) / self._std_X\n"
   ]
  },
  {
   "cell_type": "code",
   "execution_count": 2,
   "metadata": {},
   "outputs": [
    {
     "output_type": "execute_result",
     "data": {
      "text/plain": [
       "    a    b     c    d\n",
       "0   2   20  0.00 -1.0\n",
       "1   4   40  0.25 -0.5\n",
       "2   6   60  0.50  0.0\n",
       "3   8   80  0.75  0.5\n",
       "4  10  100  1.00  1.0"
      ],
      "text/html": "<div>\n<style scoped>\n    .dataframe tbody tr th:only-of-type {\n        vertical-align: middle;\n    }\n\n    .dataframe tbody tr th {\n        vertical-align: top;\n    }\n\n    .dataframe thead th {\n        text-align: right;\n    }\n</style>\n<table border=\"1\" class=\"dataframe\">\n  <thead>\n    <tr style=\"text-align: right;\">\n      <th></th>\n      <th>a</th>\n      <th>b</th>\n      <th>c</th>\n      <th>d</th>\n    </tr>\n  </thead>\n  <tbody>\n    <tr>\n      <th>0</th>\n      <td>2</td>\n      <td>20</td>\n      <td>0.00</td>\n      <td>-1.0</td>\n    </tr>\n    <tr>\n      <th>1</th>\n      <td>4</td>\n      <td>40</td>\n      <td>0.25</td>\n      <td>-0.5</td>\n    </tr>\n    <tr>\n      <th>2</th>\n      <td>6</td>\n      <td>60</td>\n      <td>0.50</td>\n      <td>0.0</td>\n    </tr>\n    <tr>\n      <th>3</th>\n      <td>8</td>\n      <td>80</td>\n      <td>0.75</td>\n      <td>0.5</td>\n    </tr>\n    <tr>\n      <th>4</th>\n      <td>10</td>\n      <td>100</td>\n      <td>1.00</td>\n      <td>1.0</td>\n    </tr>\n  </tbody>\n</table>\n</div>"
     },
     "metadata": {},
     "execution_count": 2
    }
   ],
   "source": [
    "df = pd.DataFrame({\n",
    "    'a': range(2, 12, 2),\n",
    "    'b': range(20, 120, 20),\n",
    "    'c': np.linspace(0, 1, 5),\n",
    "    'd': np.linspace(-1, 1, 5)\n",
    "})\n",
    "df"
   ]
  },
  {
   "cell_type": "code",
   "execution_count": 3,
   "metadata": {},
   "outputs": [
    {
     "output_type": "execute_result",
     "data": {
      "text/plain": [
       "          a         b         c         d\n",
       "0 -1.414214 -1.414214 -1.414214 -1.414214\n",
       "1 -0.707107 -0.707107 -0.707107 -0.707107\n",
       "2  0.000000  0.000000  0.000000  0.000000\n",
       "3  0.707107  0.707107  0.707107  0.707107\n",
       "4  1.414214  1.414214  1.414214  1.414214"
      ],
      "text/html": "<div>\n<style scoped>\n    .dataframe tbody tr th:only-of-type {\n        vertical-align: middle;\n    }\n\n    .dataframe tbody tr th {\n        vertical-align: top;\n    }\n\n    .dataframe thead th {\n        text-align: right;\n    }\n</style>\n<table border=\"1\" class=\"dataframe\">\n  <thead>\n    <tr style=\"text-align: right;\">\n      <th></th>\n      <th>a</th>\n      <th>b</th>\n      <th>c</th>\n      <th>d</th>\n    </tr>\n  </thead>\n  <tbody>\n    <tr>\n      <th>0</th>\n      <td>-1.414214</td>\n      <td>-1.414214</td>\n      <td>-1.414214</td>\n      <td>-1.414214</td>\n    </tr>\n    <tr>\n      <th>1</th>\n      <td>-0.707107</td>\n      <td>-0.707107</td>\n      <td>-0.707107</td>\n      <td>-0.707107</td>\n    </tr>\n    <tr>\n      <th>2</th>\n      <td>0.000000</td>\n      <td>0.000000</td>\n      <td>0.000000</td>\n      <td>0.000000</td>\n    </tr>\n    <tr>\n      <th>3</th>\n      <td>0.707107</td>\n      <td>0.707107</td>\n      <td>0.707107</td>\n      <td>0.707107</td>\n    </tr>\n    <tr>\n      <th>4</th>\n      <td>1.414214</td>\n      <td>1.414214</td>\n      <td>1.414214</td>\n      <td>1.414214</td>\n    </tr>\n  </tbody>\n</table>\n</div>"
     },
     "metadata": {},
     "execution_count": 3
    }
   ],
   "source": [
    "MyTransformer().fit_transform(df)"
   ]
  },
  {
   "cell_type": "code",
   "execution_count": 4,
   "metadata": {},
   "outputs": [
    {
     "output_type": "execute_result",
     "data": {
      "text/plain": [
       "array([[-1.41421356, -1.41421356, -1.41421356, -1.41421356],\n",
       "       [-0.70710678, -0.70710678, -0.70710678, -0.70710678],\n",
       "       [ 0.        ,  0.        ,  0.        ,  0.        ],\n",
       "       [ 0.70710678,  0.70710678,  0.70710678,  0.70710678],\n",
       "       [ 1.41421356,  1.41421356,  1.41421356,  1.41421356]])"
      ]
     },
     "metadata": {},
     "execution_count": 4
    }
   ],
   "source": [
    "StandardScaler().fit_transform(df)"
   ]
  },
  {
   "cell_type": "code",
   "execution_count": 5,
   "metadata": {},
   "outputs": [],
   "source": [
    "X_train = np.array([[ 1., -1.,  3.],\n",
    "                    [ 3.,  0.,  0.],\n",
    "                    [ 0.,  1., -1.]])"
   ]
  },
  {
   "cell_type": "code",
   "execution_count": 6,
   "metadata": {},
   "outputs": [
    {
     "output_type": "execute_result",
     "data": {
      "text/plain": [
       "array([[-0.26726124, -1.22474487,  1.37281295],\n",
       "       [ 1.33630621,  0.        , -0.39223227],\n",
       "       [-1.06904497,  1.22474487, -0.98058068]])"
      ]
     },
     "metadata": {},
     "execution_count": 6
    }
   ],
   "source": [
    "StandardScaler().fit_transform(X_train)"
   ]
  },
  {
   "cell_type": "code",
   "execution_count": 7,
   "metadata": {
    "scrolled": true
   },
   "outputs": [
    {
     "output_type": "execute_result",
     "data": {
      "text/plain": [
       "array([[-0.26726124, -1.22474487,  1.37281295],\n",
       "       [ 1.33630621,  0.        , -0.39223227],\n",
       "       [-1.06904497,  1.22474487, -0.98058068]])"
      ]
     },
     "metadata": {},
     "execution_count": 7
    }
   ],
   "source": [
    "MyTransformer().fit_transform(X_train)"
   ]
  },
  {
   "cell_type": "code",
   "execution_count": 8,
   "metadata": {},
   "outputs": [],
   "source": [
    "N = 100\n",
    "X0 = np.random.uniform(size=N).reshape(-1,1)\n",
    "X1 = np.random.normal(size=N).reshape(-1,1)\n",
    "X2 = np.random.binomial(n=10, p=0.2, size=N).reshape(-1,1)\n",
    "X3 = np.random.exponential(size=N).reshape(-1,1)\n",
    "X4 = np.random.poisson(lam=1.0, size=N).reshape(-1,1)\n",
    "X5 = np.random.triangular(left=-1.0, mode=0.0, right=1.0, size=N).reshape(-1,1)\n",
    "X6 = np.random.weibull(a=1.0, size=N).reshape(-1,1)\n",
    "X7 = np.random.weibull(a=5.0, size=N).reshape(-1,1)"
   ]
  },
  {
   "cell_type": "code",
   "execution_count": 9,
   "metadata": {},
   "outputs": [],
   "source": [
    "from sklearn.preprocessing import (MaxAbsScaler, MinMaxScaler, Normalizer, PowerTransformer,\n",
    "                                   QuantileTransformer, StandardScaler)\n",
    "\n",
    "def transform(X):\n",
    "    return pd.DataFrame({\n",
    "        'X': X.flatten(),\n",
    "        'BoxCox': PowerTransformer(method='box-cox', standardize=False).fit_transform(X).flatten(),\n",
    "        'BoxCox_Std': PowerTransformer(method='box-cox', standardize=True).fit_transform(X).flatten(),\n",
    "        'MaxAbs': MaxAbsScaler().fit_transform(X).flatten(),\n",
    "        'MinMax': MinMaxScaler().fit_transform(X).flatten(),\n",
    "        'NormalizerL1': Normalizer(norm='l1').fit_transform(X).flatten(),  # Same as: preprocessing.normalize(df, norm='l1')\n",
    "        'NormalizerL2': Normalizer(norm='l2').fit_transform(X).flatten(),  # Same as: preprocessing.normalize(df, norm='l2')\n",
    "        'Quantile10': QuantileTransformer(n_quantiles=10).fit_transform(X).flatten(),\n",
    "        'Standard': StandardScaler().fit_transform(X).flatten(),\n",
    "        'YeoJohnson': PowerTransformer(method='yeo-johnson').fit_transform(X).flatten()\n",
    "    }, index=np.arange(len(X)))"
   ]
  },
  {
   "cell_type": "code",
   "execution_count": 10,
   "metadata": {},
   "outputs": [
    {
     "output_type": "execute_result",
     "data": {
      "text/plain": [
       "           X    BoxCox  BoxCox_Std    MaxAbs    MinMax  NormalizerL1  \\\n",
       "0   0.793056 -0.216534    1.138456  0.824168  0.819421           1.0   \n",
       "1   0.678187 -0.346616    0.818730  0.704793  0.696823           1.0   \n",
       "2   0.220117 -0.996600   -0.778847  0.228753  0.207932           1.0   \n",
       "3   0.788387 -0.221667    1.125840  0.819316  0.814438           1.0   \n",
       "4   0.204805 -1.025197   -0.849134  0.212840  0.191589           1.0   \n",
       "..       ...       ...         ...       ...       ...           ...   \n",
       "95  0.204303 -1.026148   -0.851474  0.212318  0.191054           1.0   \n",
       "96  0.293689 -0.869093   -0.465451  0.305211  0.286454           1.0   \n",
       "97  0.741728 -0.273650    0.998073  0.770827  0.764640           1.0   \n",
       "98  0.844099 -0.161196    1.274471  0.877213  0.873899           1.0   \n",
       "99  0.402358 -0.702395   -0.055728  0.418143  0.402435           1.0   \n",
       "\n",
       "    NormalizerL2  Quantile10  Standard  YeoJohnson  \n",
       "0            1.0    0.833488  1.204838    1.177046  \n",
       "1            1.0    0.730252  0.790996    0.825828  \n",
       "2            1.0    0.238419 -0.859300   -0.840341  \n",
       "3            1.0    0.828420  1.188016    1.163180  \n",
       "4            1.0    0.217297 -0.914464   -0.905514  \n",
       "..           ...         ...       ...         ...  \n",
       "95           1.0    0.216858 -0.916273   -0.907664  \n",
       "96           1.0    0.348779 -0.594239   -0.537355  \n",
       "97           1.0    0.777778  1.019919    1.022756  \n",
       "98           1.0    0.888889  1.388730    1.326488  \n",
       "99           1.0    0.451022 -0.202735   -0.117734  \n",
       "\n",
       "[100 rows x 10 columns]"
      ],
      "text/html": "<div>\n<style scoped>\n    .dataframe tbody tr th:only-of-type {\n        vertical-align: middle;\n    }\n\n    .dataframe tbody tr th {\n        vertical-align: top;\n    }\n\n    .dataframe thead th {\n        text-align: right;\n    }\n</style>\n<table border=\"1\" class=\"dataframe\">\n  <thead>\n    <tr style=\"text-align: right;\">\n      <th></th>\n      <th>X</th>\n      <th>BoxCox</th>\n      <th>BoxCox_Std</th>\n      <th>MaxAbs</th>\n      <th>MinMax</th>\n      <th>NormalizerL1</th>\n      <th>NormalizerL2</th>\n      <th>Quantile10</th>\n      <th>Standard</th>\n      <th>YeoJohnson</th>\n    </tr>\n  </thead>\n  <tbody>\n    <tr>\n      <th>0</th>\n      <td>0.793056</td>\n      <td>-0.216534</td>\n      <td>1.138456</td>\n      <td>0.824168</td>\n      <td>0.819421</td>\n      <td>1.0</td>\n      <td>1.0</td>\n      <td>0.833488</td>\n      <td>1.204838</td>\n      <td>1.177046</td>\n    </tr>\n    <tr>\n      <th>1</th>\n      <td>0.678187</td>\n      <td>-0.346616</td>\n      <td>0.818730</td>\n      <td>0.704793</td>\n      <td>0.696823</td>\n      <td>1.0</td>\n      <td>1.0</td>\n      <td>0.730252</td>\n      <td>0.790996</td>\n      <td>0.825828</td>\n    </tr>\n    <tr>\n      <th>2</th>\n      <td>0.220117</td>\n      <td>-0.996600</td>\n      <td>-0.778847</td>\n      <td>0.228753</td>\n      <td>0.207932</td>\n      <td>1.0</td>\n      <td>1.0</td>\n      <td>0.238419</td>\n      <td>-0.859300</td>\n      <td>-0.840341</td>\n    </tr>\n    <tr>\n      <th>3</th>\n      <td>0.788387</td>\n      <td>-0.221667</td>\n      <td>1.125840</td>\n      <td>0.819316</td>\n      <td>0.814438</td>\n      <td>1.0</td>\n      <td>1.0</td>\n      <td>0.828420</td>\n      <td>1.188016</td>\n      <td>1.163180</td>\n    </tr>\n    <tr>\n      <th>4</th>\n      <td>0.204805</td>\n      <td>-1.025197</td>\n      <td>-0.849134</td>\n      <td>0.212840</td>\n      <td>0.191589</td>\n      <td>1.0</td>\n      <td>1.0</td>\n      <td>0.217297</td>\n      <td>-0.914464</td>\n      <td>-0.905514</td>\n    </tr>\n    <tr>\n      <th>...</th>\n      <td>...</td>\n      <td>...</td>\n      <td>...</td>\n      <td>...</td>\n      <td>...</td>\n      <td>...</td>\n      <td>...</td>\n      <td>...</td>\n      <td>...</td>\n      <td>...</td>\n    </tr>\n    <tr>\n      <th>95</th>\n      <td>0.204303</td>\n      <td>-1.026148</td>\n      <td>-0.851474</td>\n      <td>0.212318</td>\n      <td>0.191054</td>\n      <td>1.0</td>\n      <td>1.0</td>\n      <td>0.216858</td>\n      <td>-0.916273</td>\n      <td>-0.907664</td>\n    </tr>\n    <tr>\n      <th>96</th>\n      <td>0.293689</td>\n      <td>-0.869093</td>\n      <td>-0.465451</td>\n      <td>0.305211</td>\n      <td>0.286454</td>\n      <td>1.0</td>\n      <td>1.0</td>\n      <td>0.348779</td>\n      <td>-0.594239</td>\n      <td>-0.537355</td>\n    </tr>\n    <tr>\n      <th>97</th>\n      <td>0.741728</td>\n      <td>-0.273650</td>\n      <td>0.998073</td>\n      <td>0.770827</td>\n      <td>0.764640</td>\n      <td>1.0</td>\n      <td>1.0</td>\n      <td>0.777778</td>\n      <td>1.019919</td>\n      <td>1.022756</td>\n    </tr>\n    <tr>\n      <th>98</th>\n      <td>0.844099</td>\n      <td>-0.161196</td>\n      <td>1.274471</td>\n      <td>0.877213</td>\n      <td>0.873899</td>\n      <td>1.0</td>\n      <td>1.0</td>\n      <td>0.888889</td>\n      <td>1.388730</td>\n      <td>1.326488</td>\n    </tr>\n    <tr>\n      <th>99</th>\n      <td>0.402358</td>\n      <td>-0.702395</td>\n      <td>-0.055728</td>\n      <td>0.418143</td>\n      <td>0.402435</td>\n      <td>1.0</td>\n      <td>1.0</td>\n      <td>0.451022</td>\n      <td>-0.202735</td>\n      <td>-0.117734</td>\n    </tr>\n  </tbody>\n</table>\n<p>100 rows × 10 columns</p>\n</div>"
     },
     "metadata": {},
     "execution_count": 10
    }
   ],
   "source": [
    "dfX = transform(X0)\n",
    "dfX"
   ]
  }
 ],
 "metadata": {
  "kernelspec": {
   "display_name": "Python 3",
   "language": "python",
   "name": "python3"
  },
  "language_info": {
   "codemirror_mode": {
    "name": "ipython",
    "version": 3
   },
   "file_extension": ".py",
   "mimetype": "text/x-python",
   "name": "python",
   "nbconvert_exporter": "python",
   "pygments_lexer": "ipython3",
   "version": "3.8.1-final"
  }
 },
 "nbformat": 4,
 "nbformat_minor": 4
}