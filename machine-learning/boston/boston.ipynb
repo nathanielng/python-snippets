{
 "cells": [
  {
   "cell_type": "markdown",
   "metadata": {},
   "source": [
    "# Boston"
   ]
  },
  {
   "cell_type": "code",
   "execution_count": 1,
   "metadata": {},
   "outputs": [],
   "source": [
    "from sklearn.datasets import load_boston\n",
    "from sklearn.linear_model import LinearRegression, Ridge, Lasso\n",
    "from sklearn.model_selection import train_test_split, cross_val_score\n",
    "from sklearn.preprocessing import PolynomialFeatures"
   ]
  },
  {
   "cell_type": "code",
   "execution_count": 2,
   "metadata": {},
   "outputs": [
    {
     "name": "stdout",
     "output_type": "stream",
     "text": [
      "Boston dataset: 506 rows, 13 cols\n"
     ]
    }
   ],
   "source": [
    "boston = load_boston()\n",
    "rows, cols = boston.data.shape\n",
    "print(f'Boston dataset: {rows} rows, {cols} cols')\n",
    "X_train, X_test, Y_train, Y_test = train_test_split(\n",
    "    boston.data, boston.target, test_size=0.2)"
   ]
  },
  {
   "cell_type": "code",
   "execution_count": 3,
   "metadata": {},
   "outputs": [
    {
     "name": "stdout",
     "output_type": "stream",
     "text": [
      "Linear regression: 0.7381135178144571\n",
      "Ridge regression: 0.7381969094325223\n",
      "Lasso score: 0.7384738650799826\n",
      "Linear regression (polynomial features): 0.7381135178144571\n"
     ]
    }
   ],
   "source": [
    "lr = LinearRegression(normalize=True)\n",
    "# lr.fit(X_train, Y_train)\n",
    "print(f'Linear regression: {cross_val_score(lr, X_train, Y_train, cv=7).mean()}')\n",
    "rg = Ridge(0.001, normalize=True)\n",
    "print(f'Ridge regression: {cross_val_score(rg, X_train, Y_train, cv=7).mean()}')\n",
    "ls = Lasso(0.001, normalize=True)\n",
    "print(f'Lasso score: {cross_val_score(ls, X_train, Y_train, cv=7).mean()}')\n",
    "# Polynomial features\n",
    "lr_pf = LinearRegression(normalize=True)\n",
    "pf = PolynomialFeatures(degree=2)\n",
    "Xp = pf.fit_transform(X_train)\n",
    "lr_pf.fit(Xp, Y_train)\n",
    "print(f'Linear regression (polynomial features): {cross_val_score(lr_pf, X_train, Y_train, cv=7).mean()}')"
   ]
  }
 ],
 "metadata": {
  "kernelspec": {
   "display_name": "Python 3",
   "language": "python",
   "name": "python3"
  },
  "language_info": {
   "codemirror_mode": {
    "name": "ipython",
    "version": 3
   },
   "file_extension": ".py",
   "mimetype": "text/x-python",
   "name": "python",
   "nbconvert_exporter": "python",
   "pygments_lexer": "ipython3",
   "version": "3.6.9"
  }
 },
 "nbformat": 4,
 "nbformat_minor": 4
}
