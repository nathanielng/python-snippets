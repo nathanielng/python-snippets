{
 "cells": [
  {
   "cell_type": "markdown",
   "metadata": {},
   "source": [
    "# Regular Expressions in Python\n",
    "\n",
    "## 1. Introduction\n",
    "\n",
    "### 1.1 Special Characters\n",
    "\n",
    "### 1.1.1 Compilation Flags\n",
    "\n",
    "Flag                |Explanation\n",
    "--------------------|-------------------------------------------------\n",
    "`re.A/re.ASCII`     |match against ASCII (as opposed to full Unicode) when used with: `\\w, \\W, \\b, \\B, \\d, \\D, \\s, \\S`\n",
    "`re.DEBUG`          |display debug information\n",
    "`re.I/re.IGNORECASE`|case-insensitive matching (also works with Unicode, not affected by locale)\n",
    "`re.M/re.MULTILINE` |`^` will both match at the beginning of the string and at the beginning of each line; `$` will both match at the end of the string and at the end of each line.\n",
    "`re.S/re.DOTALL`    |`.` will also match newlines\n",
    "`re.X/re.VERBOSE`   |allows comments in regular expressions, and whitespace in certain parts"
   ]
  }
 ],
 "metadata": {
  "kernelspec": {
   "display_name": "Python 3",
   "language": "python",
   "name": "python3"
  },
  "language_info": {
   "codemirror_mode": {
    "name": "ipython",
    "version": 3
   },
   "file_extension": ".py",
   "mimetype": "text/x-python",
   "name": "python",
   "nbconvert_exporter": "python",
   "pygments_lexer": "ipython3",
   "version": "3.6.9"
  }
 },
 "nbformat": 4,
 "nbformat_minor": 2
}
