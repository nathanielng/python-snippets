{
 "cells": [
  {
   "cell_type": "markdown",
   "metadata": {},
   "source": [
    "# Itertools Examples"
   ]
  },
  {
   "cell_type": "code",
   "execution_count": 1,
   "metadata": {},
   "outputs": [],
   "source": [
    "import itertools\n",
    "import numpy as np"
   ]
  },
  {
   "cell_type": "markdown",
   "metadata": {},
   "source": [
    "## 1. Itertools Product"
   ]
  },
  {
   "cell_type": "code",
   "execution_count": 2,
   "metadata": {},
   "outputs": [
    {
     "output_type": "execute_result",
     "data": {
      "text/plain": "[(1, 2, 'a'),\n (1, 2, 'b'),\n (1, 3, 'a'),\n (1, 3, 'b'),\n (1, 4, 'a'),\n (1, 4, 'b'),\n (2, 2, 'a'),\n (2, 2, 'b'),\n (2, 3, 'a'),\n (2, 3, 'b'),\n (2, 4, 'a'),\n (2, 4, 'b'),\n (3, 2, 'a'),\n (3, 2, 'b'),\n (3, 3, 'a'),\n (3, 3, 'b'),\n (3, 4, 'a'),\n (3, 4, 'b'),\n (4, 2, 'a'),\n (4, 2, 'b'),\n (4, 3, 'a'),\n (4, 3, 'b'),\n (4, 4, 'a'),\n (4, 4, 'b')]"
     },
     "metadata": {},
     "execution_count": 2
    }
   ],
   "source": [
    "a1 = [1, 2, 3, 4]\n",
    "a2 = [2, 3, 4]\n",
    "a3 = ['a', 'b']\n",
    "\n",
    "list(itertools.product(a1, a2, a3))"
   ]
  },
  {
   "cell_type": "code",
   "execution_count": 3,
   "metadata": {},
   "outputs": [
    {
     "output_type": "execute_result",
     "data": {
      "text/plain": "[(1, 2),\n (1, 3),\n (1, 4),\n (2, 2),\n (2, 3),\n (2, 4),\n (3, 2),\n (3, 3),\n (3, 4),\n (4, 2),\n (4, 3),\n (4, 4)]"
     },
     "metadata": {},
     "execution_count": 3
    }
   ],
   "source": [
    "list(itertools.product(a1, a2))"
   ]
  },
  {
   "cell_type": "markdown",
   "metadata": {},
   "source": [
    "## 2. Itertools Starmap"
   ]
  },
  {
   "cell_type": "code",
   "execution_count": 4,
   "metadata": {},
   "outputs": [
    {
     "output_type": "execute_result",
     "data": {
      "text/plain": "[1.0, -2.0, 2.0, 6.123233995736766e-17]"
     },
     "metadata": {},
     "execution_count": 4
    }
   ],
   "source": [
    "list(itertools.starmap(\n",
    "    lambda a, x: a*np.cos(x),\n",
    "    [(1, 0),\n",
    "     (2, np.pi),\n",
    "     (2, 2*np.pi),\n",
    "     (1, np.pi/2)]\n",
    "    ))"
   ]
  },
  {
   "cell_type": "code",
   "execution_count": 5,
   "metadata": {},
   "outputs": [
    {
     "output_type": "execute_result",
     "data": {
      "text/plain": "[1, 1, 1, 4, 8, 16, 9, 27, 81, 16, 64, 256]"
     },
     "metadata": {},
     "execution_count": 5
    }
   ],
   "source": [
    "list(itertools.starmap(pow, itertools.product(a1, a2)))"
   ]
  },
  {
   "cell_type": "code",
   "execution_count": 6,
   "metadata": {},
   "outputs": [
    {
     "output_type": "stream",
     "name": "stdout",
     "text": "CPU times: user 20 µs, sys: 1 µs, total: 21 µs\nWall time: 24.1 µs\n"
    },
    {
     "output_type": "execute_result",
     "data": {
      "text/plain": "[2, 3, 4, 16, 24, 32, 54, 81, 108, 128, 192, 256]"
     },
     "metadata": {},
     "execution_count": 6
    }
   ],
   "source": [
    "%time list(itertools.starmap(lambda x, y: y * (x**3), itertools.product(a1, a2)))"
   ]
  },
  {
   "cell_type": "code",
   "execution_count": 7,
   "metadata": {},
   "outputs": [
    {
     "output_type": "stream",
     "name": "stdout",
     "text": "CPU times: user 24 µs, sys: 1 µs, total: 25 µs\nWall time: 28.4 µs\n"
    },
    {
     "output_type": "execute_result",
     "data": {
      "text/plain": "[2, 3, 4, 16, 24, 32, 54, 81, 108, 128, 192, 256]"
     },
     "metadata": {},
     "execution_count": 7
    }
   ],
   "source": [
    "%time list(map(lambda x, y: y * (x**3), *zip(*itertools.product(a1, a2))))"
   ]
  }
 ],
 "metadata": {
  "kernelspec": {
   "display_name": "Python 3",
   "language": "python",
   "name": "python3"
  },
  "language_info": {
   "codemirror_mode": {
    "name": "ipython",
    "version": 3
   },
   "file_extension": ".py",
   "mimetype": "text/x-python",
   "name": "python",
   "nbconvert_exporter": "python",
   "pygments_lexer": "ipython3",
   "version": "3.7.3-final"
  }
 },
 "nbformat": 4,
 "nbformat_minor": 2
}