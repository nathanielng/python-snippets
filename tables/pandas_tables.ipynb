{
 "cells": [
  {
   "cell_type": "markdown",
   "metadata": {},
   "source": [
    "# Table manipulation in Pandas"
   ]
  },
  {
   "cell_type": "code",
   "execution_count": 1,
   "metadata": {},
   "outputs": [],
   "source": [
    "import datetime\n",
    "import numpy as np\n",
    "import pandas as pd\n",
    "\n",
    "from itertools import product\n",
    "from string import ascii_uppercase, ascii_letters"
   ]
  },
  {
   "cell_type": "markdown",
   "metadata": {},
   "source": [
    "## 1. Pandas DataFrames\n",
    "\n",
    "### 1.1 DataFrame Creation"
   ]
  },
  {
   "cell_type": "code",
   "execution_count": 2,
   "metadata": {},
   "outputs": [
    {
     "output_type": "execute_result",
     "data": {
      "text/plain": "  Category  Id  A  B         C          D          E\n0      red   0  a  5  0.969345 2020-02-29 2020-03-01\n1      red   1  b  2  0.735107 2020-03-01 2020-03-08\n2      red   2  c  8  0.699481 2020-03-02 2020-03-15\n3     blue   0  d  3  0.437248 2020-03-03 2020-03-22\n4     blue   1  e  5  0.610457 2020-03-04 2020-03-29",
      "text/html": "<div>\n<style scoped>\n    .dataframe tbody tr th:only-of-type {\n        vertical-align: middle;\n    }\n\n    .dataframe tbody tr th {\n        vertical-align: top;\n    }\n\n    .dataframe thead th {\n        text-align: right;\n    }\n</style>\n<table border=\"1\" class=\"dataframe\">\n  <thead>\n    <tr style=\"text-align: right;\">\n      <th></th>\n      <th>Category</th>\n      <th>Id</th>\n      <th>A</th>\n      <th>B</th>\n      <th>C</th>\n      <th>D</th>\n      <th>E</th>\n    </tr>\n  </thead>\n  <tbody>\n    <tr>\n      <th>0</th>\n      <td>red</td>\n      <td>0</td>\n      <td>a</td>\n      <td>5</td>\n      <td>0.969345</td>\n      <td>2020-02-29</td>\n      <td>2020-03-01</td>\n    </tr>\n    <tr>\n      <th>1</th>\n      <td>red</td>\n      <td>1</td>\n      <td>b</td>\n      <td>2</td>\n      <td>0.735107</td>\n      <td>2020-03-01</td>\n      <td>2020-03-08</td>\n    </tr>\n    <tr>\n      <th>2</th>\n      <td>red</td>\n      <td>2</td>\n      <td>c</td>\n      <td>8</td>\n      <td>0.699481</td>\n      <td>2020-03-02</td>\n      <td>2020-03-15</td>\n    </tr>\n    <tr>\n      <th>3</th>\n      <td>blue</td>\n      <td>0</td>\n      <td>d</td>\n      <td>3</td>\n      <td>0.437248</td>\n      <td>2020-03-03</td>\n      <td>2020-03-22</td>\n    </tr>\n    <tr>\n      <th>4</th>\n      <td>blue</td>\n      <td>1</td>\n      <td>e</td>\n      <td>5</td>\n      <td>0.610457</td>\n      <td>2020-03-04</td>\n      <td>2020-03-29</td>\n    </tr>\n  </tbody>\n</table>\n</div>"
     },
     "metadata": {},
     "execution_count": 2
    }
   ],
   "source": [
    "a, b = 3, 2\n",
    "n = a + b\n",
    "\n",
    "df = pd.DataFrame({\n",
    "    'Category': ['red']*a + ['blue']*b,\n",
    "    'Id': list(range(a)) + list(range(b)),\n",
    "    'A': list(ascii_letters)[:n],\n",
    "    'B': np.random.randint(0, 10, n),\n",
    "    'C': np.random.random(n),\n",
    "    'D': np.array('2020-02-29', dtype=np.datetime64) + np.arange(n),\n",
    "    'E': pd.date_range('2020-03-01', periods=n, freq='W')\n",
    "})\n",
    "df"
   ]
  },
  {
   "cell_type": "markdown",
   "metadata": {},
   "source": [
    "### 1.2 Get count of each ['Category', 'Id'] pair"
   ]
  },
  {
   "cell_type": "code",
   "execution_count": 3,
   "metadata": {},
   "outputs": [
    {
     "output_type": "execute_result",
     "data": {
      "text/plain": "  Category  Id  count\n0     blue   0      1\n1     blue   1      1\n2      red   0      1\n3      red   1      1\n4      red   2      1",
      "text/html": "<div>\n<style scoped>\n    .dataframe tbody tr th:only-of-type {\n        vertical-align: middle;\n    }\n\n    .dataframe tbody tr th {\n        vertical-align: top;\n    }\n\n    .dataframe thead th {\n        text-align: right;\n    }\n</style>\n<table border=\"1\" class=\"dataframe\">\n  <thead>\n    <tr style=\"text-align: right;\">\n      <th></th>\n      <th>Category</th>\n      <th>Id</th>\n      <th>count</th>\n    </tr>\n  </thead>\n  <tbody>\n    <tr>\n      <th>0</th>\n      <td>blue</td>\n      <td>0</td>\n      <td>1</td>\n    </tr>\n    <tr>\n      <th>1</th>\n      <td>blue</td>\n      <td>1</td>\n      <td>1</td>\n    </tr>\n    <tr>\n      <th>2</th>\n      <td>red</td>\n      <td>0</td>\n      <td>1</td>\n    </tr>\n    <tr>\n      <th>3</th>\n      <td>red</td>\n      <td>1</td>\n      <td>1</td>\n    </tr>\n    <tr>\n      <th>4</th>\n      <td>red</td>\n      <td>2</td>\n      <td>1</td>\n    </tr>\n  </tbody>\n</table>\n</div>"
     },
     "metadata": {},
     "execution_count": 3
    }
   ],
   "source": [
    "df.groupby(['Category', 'Id']).size().reset_index(name='count')"
   ]
  },
  {
   "cell_type": "markdown",
   "metadata": {},
   "source": [
    "## 2. Multi-Index DataFrames\n",
    "\n",
    "### 2.1 Creation of a DataFrame with a multi-index"
   ]
  },
  {
   "cell_type": "code",
   "execution_count": 4,
   "metadata": {},
   "outputs": [
    {
     "output_type": "execute_result",
     "data": {
      "text/plain": "             A  B         C          D          E\nCategory Id                                      \nred      0   a  5  0.969345 2020-02-29 2020-03-01\n         1   b  2  0.735107 2020-03-01 2020-03-08\n         2   c  8  0.699481 2020-03-02 2020-03-15\nblue     0   d  3  0.437248 2020-03-03 2020-03-22\n         1   e  5  0.610457 2020-03-04 2020-03-29",
      "text/html": "<div>\n<style scoped>\n    .dataframe tbody tr th:only-of-type {\n        vertical-align: middle;\n    }\n\n    .dataframe tbody tr th {\n        vertical-align: top;\n    }\n\n    .dataframe thead th {\n        text-align: right;\n    }\n</style>\n<table border=\"1\" class=\"dataframe\">\n  <thead>\n    <tr style=\"text-align: right;\">\n      <th></th>\n      <th></th>\n      <th>A</th>\n      <th>B</th>\n      <th>C</th>\n      <th>D</th>\n      <th>E</th>\n    </tr>\n    <tr>\n      <th>Category</th>\n      <th>Id</th>\n      <th></th>\n      <th></th>\n      <th></th>\n      <th></th>\n      <th></th>\n    </tr>\n  </thead>\n  <tbody>\n    <tr>\n      <th rowspan=\"3\" valign=\"top\">red</th>\n      <th>0</th>\n      <td>a</td>\n      <td>5</td>\n      <td>0.969345</td>\n      <td>2020-02-29</td>\n      <td>2020-03-01</td>\n    </tr>\n    <tr>\n      <th>1</th>\n      <td>b</td>\n      <td>2</td>\n      <td>0.735107</td>\n      <td>2020-03-01</td>\n      <td>2020-03-08</td>\n    </tr>\n    <tr>\n      <th>2</th>\n      <td>c</td>\n      <td>8</td>\n      <td>0.699481</td>\n      <td>2020-03-02</td>\n      <td>2020-03-15</td>\n    </tr>\n    <tr>\n      <th rowspan=\"2\" valign=\"top\">blue</th>\n      <th>0</th>\n      <td>d</td>\n      <td>3</td>\n      <td>0.437248</td>\n      <td>2020-03-03</td>\n      <td>2020-03-22</td>\n    </tr>\n    <tr>\n      <th>1</th>\n      <td>e</td>\n      <td>5</td>\n      <td>0.610457</td>\n      <td>2020-03-04</td>\n      <td>2020-03-29</td>\n    </tr>\n  </tbody>\n</table>\n</div>"
     },
     "metadata": {},
     "execution_count": 4
    }
   ],
   "source": [
    "df_multi = df.set_index(['Category', 'Id'])\n",
    "df_multi"
   ]
  },
  {
   "cell_type": "markdown",
   "metadata": {},
   "source": [
    "### 2.2 Operations on the multi-index"
   ]
  },
  {
   "cell_type": "code",
   "execution_count": 5,
   "metadata": {},
   "outputs": [
    {
     "output_type": "stream",
     "name": "stdout",
     "text": "The multi-index is:\nMultiIndex([( 'red', 0),\n            ( 'red', 1),\n            ( 'red', 2),\n            ('blue', 0),\n            ('blue', 1)],\n           names=['Category', 'Id'])\n\nConversion to a normal index (by removing the first row of the multi-index):\nInt64Index([0, 1, 2, 0, 1], dtype='int64', name='Id')\n\nConversion to a normal index (by removing the second row of the multi-index)\nIndex(['red', 'red', 'red', 'blue', 'blue'], dtype='object', name='Category')\n\nConverting a multi index into an array of tuples\n[('red', 0) ('red', 1) ('red', 2) ('blue', 0) ('blue', 1)]\n\n"
    }
   ],
   "source": [
    "print(f\"The multi-index is:\\n{df_multi.index}\\n\")\n",
    "\n",
    "print(\"Conversion to a normal index (by removing the first row of the multi-index):\")\n",
    "print(f\"{df_multi.index.droplevel(level=0)}\\n\")\n",
    "\n",
    "print(\"Conversion to a normal index (by removing the second row of the multi-index)\")\n",
    "print(f\"{df_multi.index.droplevel(level=1)}\\n\")\n",
    "\n",
    "print(\"Converting a multi index into an array of tuples\")\n",
    "print(f\"{df_multi.index.ravel()}\\n\")"
   ]
  },
  {
   "cell_type": "markdown",
   "metadata": {},
   "source": []
  },
  {
   "cell_type": "code",
   "execution_count": 6,
   "metadata": {},
   "outputs": [
    {
     "output_type": "stream",
     "name": "stdout",
     "text": "Converting the multi-index back into columns\n"
    },
    {
     "output_type": "execute_result",
     "data": {
      "text/plain": "  Category  Id  A  B         C          D          E\n0      red   0  a  5  0.969345 2020-02-29 2020-03-01\n1      red   1  b  2  0.735107 2020-03-01 2020-03-08\n2      red   2  c  8  0.699481 2020-03-02 2020-03-15\n3     blue   0  d  3  0.437248 2020-03-03 2020-03-22\n4     blue   1  e  5  0.610457 2020-03-04 2020-03-29",
      "text/html": "<div>\n<style scoped>\n    .dataframe tbody tr th:only-of-type {\n        vertical-align: middle;\n    }\n\n    .dataframe tbody tr th {\n        vertical-align: top;\n    }\n\n    .dataframe thead th {\n        text-align: right;\n    }\n</style>\n<table border=\"1\" class=\"dataframe\">\n  <thead>\n    <tr style=\"text-align: right;\">\n      <th></th>\n      <th>Category</th>\n      <th>Id</th>\n      <th>A</th>\n      <th>B</th>\n      <th>C</th>\n      <th>D</th>\n      <th>E</th>\n    </tr>\n  </thead>\n  <tbody>\n    <tr>\n      <th>0</th>\n      <td>red</td>\n      <td>0</td>\n      <td>a</td>\n      <td>5</td>\n      <td>0.969345</td>\n      <td>2020-02-29</td>\n      <td>2020-03-01</td>\n    </tr>\n    <tr>\n      <th>1</th>\n      <td>red</td>\n      <td>1</td>\n      <td>b</td>\n      <td>2</td>\n      <td>0.735107</td>\n      <td>2020-03-01</td>\n      <td>2020-03-08</td>\n    </tr>\n    <tr>\n      <th>2</th>\n      <td>red</td>\n      <td>2</td>\n      <td>c</td>\n      <td>8</td>\n      <td>0.699481</td>\n      <td>2020-03-02</td>\n      <td>2020-03-15</td>\n    </tr>\n    <tr>\n      <th>3</th>\n      <td>blue</td>\n      <td>0</td>\n      <td>d</td>\n      <td>3</td>\n      <td>0.437248</td>\n      <td>2020-03-03</td>\n      <td>2020-03-22</td>\n    </tr>\n    <tr>\n      <th>4</th>\n      <td>blue</td>\n      <td>1</td>\n      <td>e</td>\n      <td>5</td>\n      <td>0.610457</td>\n      <td>2020-03-04</td>\n      <td>2020-03-29</td>\n    </tr>\n  </tbody>\n</table>\n</div>"
     },
     "metadata": {},
     "execution_count": 6
    }
   ],
   "source": [
    "print('Converting the multi-index back into columns')\n",
    "df_multi.reset_index()"
   ]
  },
  {
   "cell_type": "markdown",
   "metadata": {},
   "source": [
    "## 3. Stack & Unstack"
   ]
  },
  {
   "cell_type": "code",
   "execution_count": 7,
   "metadata": {},
   "outputs": [
    {
     "output_type": "execute_result",
     "data": {
      "text/plain": "             B         C\nCategory Id             \nred      0   5  0.969345\n         1   2  0.735107\n         2   8  0.699481\nblue     0   3  0.437248\n         1   5  0.610457",
      "text/html": "<div>\n<style scoped>\n    .dataframe tbody tr th:only-of-type {\n        vertical-align: middle;\n    }\n\n    .dataframe tbody tr th {\n        vertical-align: top;\n    }\n\n    .dataframe thead th {\n        text-align: right;\n    }\n</style>\n<table border=\"1\" class=\"dataframe\">\n  <thead>\n    <tr style=\"text-align: right;\">\n      <th></th>\n      <th></th>\n      <th>B</th>\n      <th>C</th>\n    </tr>\n    <tr>\n      <th>Category</th>\n      <th>Id</th>\n      <th></th>\n      <th></th>\n    </tr>\n  </thead>\n  <tbody>\n    <tr>\n      <th rowspan=\"3\" valign=\"top\">red</th>\n      <th>0</th>\n      <td>5</td>\n      <td>0.969345</td>\n    </tr>\n    <tr>\n      <th>1</th>\n      <td>2</td>\n      <td>0.735107</td>\n    </tr>\n    <tr>\n      <th>2</th>\n      <td>8</td>\n      <td>0.699481</td>\n    </tr>\n    <tr>\n      <th rowspan=\"2\" valign=\"top\">blue</th>\n      <th>0</th>\n      <td>3</td>\n      <td>0.437248</td>\n    </tr>\n    <tr>\n      <th>1</th>\n      <td>5</td>\n      <td>0.610457</td>\n    </tr>\n  </tbody>\n</table>\n</div>"
     },
     "metadata": {},
     "execution_count": 7
    }
   ],
   "source": [
    "df_wide = df[['Category', 'Id', 'B', 'C']].set_index(['Category', 'Id'])\n",
    "df_wide"
   ]
  },
  {
   "cell_type": "code",
   "execution_count": 8,
   "metadata": {},
   "outputs": [
    {
     "output_type": "execute_result",
     "data": {
      "text/plain": "Category  Id   \nred       0   B    5.000000\n              C    0.969345\n          1   B    2.000000\n              C    0.735107\n          2   B    8.000000\n              C    0.699481\nblue      0   B    3.000000\n              C    0.437248\n          1   B    5.000000\n              C    0.610457\ndtype: float64"
     },
     "metadata": {},
     "execution_count": 8
    }
   ],
   "source": [
    "df_wide.stack()"
   ]
  },
  {
   "cell_type": "code",
   "execution_count": 9,
   "metadata": {},
   "outputs": [
    {
     "output_type": "execute_result",
     "data": {
      "text/plain": "            B                   C                    \nId          0    1    2         0         1         2\nCategory                                             \nblue      3.0  5.0  NaN  0.437248  0.610457       NaN\nred       5.0  2.0  8.0  0.969345  0.735107  0.699481",
      "text/html": "<div>\n<style scoped>\n    .dataframe tbody tr th:only-of-type {\n        vertical-align: middle;\n    }\n\n    .dataframe tbody tr th {\n        vertical-align: top;\n    }\n\n    .dataframe thead tr th {\n        text-align: left;\n    }\n\n    .dataframe thead tr:last-of-type th {\n        text-align: right;\n    }\n</style>\n<table border=\"1\" class=\"dataframe\">\n  <thead>\n    <tr>\n      <th></th>\n      <th colspan=\"3\" halign=\"left\">B</th>\n      <th colspan=\"3\" halign=\"left\">C</th>\n    </tr>\n    <tr>\n      <th>Id</th>\n      <th>0</th>\n      <th>1</th>\n      <th>2</th>\n      <th>0</th>\n      <th>1</th>\n      <th>2</th>\n    </tr>\n    <tr>\n      <th>Category</th>\n      <th></th>\n      <th></th>\n      <th></th>\n      <th></th>\n      <th></th>\n      <th></th>\n    </tr>\n  </thead>\n  <tbody>\n    <tr>\n      <th>blue</th>\n      <td>3.0</td>\n      <td>5.0</td>\n      <td>NaN</td>\n      <td>0.437248</td>\n      <td>0.610457</td>\n      <td>NaN</td>\n    </tr>\n    <tr>\n      <th>red</th>\n      <td>5.0</td>\n      <td>2.0</td>\n      <td>8.0</td>\n      <td>0.969345</td>\n      <td>0.735107</td>\n      <td>0.699481</td>\n    </tr>\n  </tbody>\n</table>\n</div>"
     },
     "metadata": {},
     "execution_count": 9
    }
   ],
   "source": [
    "df_wide.unstack()"
   ]
  }
 ],
 "metadata": {
  "language_info": {
   "name": "python",
   "codemirror_mode": {
    "name": "ipython",
    "version": 3
   },
   "version": "3.7.3-final"
  },
  "orig_nbformat": 2,
  "file_extension": ".py",
  "mimetype": "text/x-python",
  "name": "python",
  "npconvert_exporter": "python",
  "pygments_lexer": "ipython3",
  "version": 3,
  "kernelspec": {
   "name": "python37364bitbaseconda2dafc13eb460417693f3f4cda8ce7fa1",
   "display_name": "Python 3.7.3 64-bit ('base': conda)"
  }
 },
 "nbformat": 4,
 "nbformat_minor": 2
}